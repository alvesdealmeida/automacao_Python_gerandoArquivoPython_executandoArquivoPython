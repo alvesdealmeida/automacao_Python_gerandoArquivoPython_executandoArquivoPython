{
 "cells": [
  {
   "cell_type": "code",
   "execution_count": 29,
   "id": "903d06bf",
   "metadata": {},
   "outputs": [],
   "source": [
    "import pyautogui\n",
    "import time\n",
    "import pyperclip\n",
    "pyautogui.PAUSE = 1\n",
    "\n",
    "#abrindo o bloco de notas\n",
    "pyautogui.press(\"winleft\")\n",
    "pyautogui.write(\"bloco de notas\")\n",
    "pyautogui.press(\"enter\")\n",
    "\n",
    "#Escrevendo o codigo em python\n",
    "pyautogui.write(\"import numpy\")\n",
    "pyautogui.press(\"enter\")\n",
    "pyautogui.write(\"numeros =[6,7,11,26,37,57,10,12,26,29,35,60,4,5,6,14,29,38,3,22,37,40,41,48,9,16,34,36,49,60,7,26,29,34,43,44,7,10,27,35,43,59,2,29,39,4952,58,4,29,30,38,43,57,13,17,31,43,54,55,8,12,29,43,54,60,21,38,48,49,53,59,3,7,10,11,27,46,2,11,19,27,57,60,10,35,43,48,50,53,5,8,29,39,44,60,2,3,32,35,44,57]\")\n",
    "pyautogui.press(\"enter\")   \n",
    "pyautogui.write(\"def selectRandom(numeros):\")     \n",
    "pyautogui.press(\"enter\")  \n",
    "pyautogui.hotkey(\"ctrl\", \"t\")\n",
    "pyautogui.write(\" return numpy.random.choice(numeros, 6,False)\")    \n",
    "pyautogui.press(\"enter\")  \n",
    "pyautogui.write(\"print(selectRandom(numeros))\")      \n",
    "pyautogui.press(\"enter\")                \n",
    "                \n",
    "\n",
    "#arquivo\n",
    "time.sleep(5)\n",
    "pyautogui.click(x=628, y=168)\n",
    "\n",
    "#salvar como\n",
    "time.sleep(5)\n",
    "pyautogui.click(x=653, y=249)\n",
    "\n",
    "#escolher diretorio (area de trabalho)\n",
    "time.sleep(5)\n",
    "pyautogui.click(x=667, y=346)\n",
    "\n",
    "# mudar de documentos texto  para todos\n",
    "time.sleep(5)\n",
    "pyautogui.click(x=811, y=575)\n",
    "\n",
    "# escolha de todos os arquivos\n",
    "time.sleep(5)\n",
    "pyautogui.click(x=820, y=612)\n",
    "\n",
    "# sinalizacao do espaço para digitar o nome do arquivo\n",
    "time.sleep(5)\n",
    "pyautogui.click(x=741, y=555)\n",
    "\n",
    "# digitando o nome do arquivo\n",
    "pyautogui.write(\"auto.py\")\n",
    "pyautogui.press(\"enter\")\n",
    "\n",
    "time.sleep(5)\n",
    "pyautogui.click(x=1220, y=624)\n",
    "\n",
    "# abrindo o prompt de comando cmd\n",
    "pyautogui.press(\"winleft\")\n",
    "pyautogui.write(\"cmd\")\n",
    "pyautogui.press(\"enter\")\n",
    "\n",
    "# acessando o diretorio Desktop\n",
    "pyautogui.write(\"cd Desktop\")\n",
    "pyautogui.press(\"enter\")\n",
    "pyautogui.write(\"dir\")\n",
    "pyautogui.press(\"enter\")\n",
    "\n",
    "# executando o arquivo auto.py\n",
    "pyautogui.write(\"python auto.py\")\n",
    "pyautogui.press(\"enter\")\n",
    "\n",
    "\n",
    "\n",
    "\n",
    "\n",
    "\n",
    "\n",
    "\n",
    "\n",
    "\n"
   ]
  },
  {
   "cell_type": "code",
   "execution_count": null,
   "id": "8d846dab",
   "metadata": {},
   "outputs": [],
   "source": []
  },
  {
   "cell_type": "code",
   "execution_count": null,
   "id": "075a857a",
   "metadata": {},
   "outputs": [],
   "source": []
  },
  {
   "cell_type": "code",
   "execution_count": null,
   "id": "f16b329a",
   "metadata": {},
   "outputs": [],
   "source": []
  },
  {
   "cell_type": "code",
   "execution_count": null,
   "id": "d67ca8cb",
   "metadata": {},
   "outputs": [],
   "source": []
  },
  {
   "cell_type": "code",
   "execution_count": null,
   "id": "131e74d0",
   "metadata": {},
   "outputs": [],
   "source": []
  },
  {
   "cell_type": "code",
   "execution_count": 25,
   "id": "6ae28f9f",
   "metadata": {},
   "outputs": [
    {
     "data": {
      "text/plain": [
       "Point(x=667, y=346)"
      ]
     },
     "execution_count": 25,
     "metadata": {},
     "output_type": "execute_result"
    }
   ],
   "source": [
    "#teste de espaço\n",
    "time.sleep(9)\n",
    "pyautogui.position()"
   ]
  },
  {
   "cell_type": "code",
   "execution_count": null,
   "id": "74885421",
   "metadata": {},
   "outputs": [],
   "source": []
  }
 ],
 "metadata": {
  "kernelspec": {
   "display_name": "Python 3",
   "language": "python",
   "name": "python3"
  },
  "language_info": {
   "codemirror_mode": {
    "name": "ipython",
    "version": 3
   },
   "file_extension": ".py",
   "mimetype": "text/x-python",
   "name": "python",
   "nbconvert_exporter": "python",
   "pygments_lexer": "ipython3",
   "version": "3.8.8"
  }
 },
 "nbformat": 4,
 "nbformat_minor": 5
}
